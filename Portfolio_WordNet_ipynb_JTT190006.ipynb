{
  "nbformat": 4,
  "nbformat_minor": 0,
  "metadata": {
    "colab": {
      "provenance": [],
      "collapsed_sections": []
    },
    "kernelspec": {
      "name": "python3",
      "display_name": "Python 3"
    },
    "language_info": {
      "name": "python"
    }
  },
  "cells": [
    {
      "cell_type": "markdown",
      "source": [
        "Jesse Truong\n",
        "JTT190006\n",
        "9/22/2022\n",
        "WordNets\n"
      ],
      "metadata": {
        "id": "BHmTjUt3ab6d"
      }
    },
    {
      "cell_type": "markdown",
      "source": [
        "WordNet is a database for the English Lanaguage tailor NLP. Wordnet its based on synset which are oranized in a hierachichal relations. WordNet connects words into relations like hyponyms, synonyms, and meronyms. This also helps the find words that mean the same thing and that are in the hierachial."
      ],
      "metadata": {
        "id": "VzRqsF-uX4fG"
      }
    },
    {
      "cell_type": "code",
      "source": [],
      "metadata": {
        "id": "MvoXJDt42Gxq"
      },
      "execution_count": null,
      "outputs": []
    },
    {
      "cell_type": "code",
      "execution_count": 111,
      "metadata": {
        "colab": {
          "base_uri": "https://localhost:8080/",
          "height": 0
        },
        "id": "8LFjK73AXvKH",
        "outputId": "ff993f2c-ebd9-4dfd-8128-8107aaa3aec5"
      },
      "outputs": [
        {
          "output_type": "stream",
          "name": "stderr",
          "text": [
            "[nltk_data] Downloading package omw-1.4 to /root/nltk_data...\n",
            "[nltk_data]   Package omw-1.4 is already up-to-date!\n",
            "[nltk_data] Downloading package wordnet to /root/nltk_data...\n",
            "[nltk_data]   Package wordnet is already up-to-date!\n",
            "[nltk_data] Downloading package sentiwordnet to /root/nltk_data...\n",
            "[nltk_data]   Package sentiwordnet is already up-to-date!\n",
            "[nltk_data] Downloading package gutenberg to /root/nltk_data...\n",
            "[nltk_data]   Package gutenberg is already up-to-date!\n",
            "[nltk_data] Downloading package genesis to /root/nltk_data...\n",
            "[nltk_data]   Package genesis is already up-to-date!\n",
            "[nltk_data] Downloading package inaugural to /root/nltk_data...\n",
            "[nltk_data]   Package inaugural is already up-to-date!\n",
            "[nltk_data] Downloading package nps_chat to /root/nltk_data...\n",
            "[nltk_data]   Package nps_chat is already up-to-date!\n",
            "[nltk_data] Downloading package webtext to /root/nltk_data...\n",
            "[nltk_data]   Package webtext is already up-to-date!\n",
            "[nltk_data] Downloading package treebank to /root/nltk_data...\n",
            "[nltk_data]   Package treebank is already up-to-date!\n",
            "[nltk_data] Downloading package stopwords to /root/nltk_data...\n",
            "[nltk_data]   Unzipping corpora/stopwords.zip.\n"
          ]
        }
      ],
      "source": [
        "import nltk\n",
        "nltk.download('omw-1.4')\n",
        "nltk.download('wordnet')\n",
        "nltk.download('sentiwordnet')\n",
        "nltk.download('gutenberg')\n",
        "nltk.download('genesis')\n",
        "nltk.download('inaugural')\n",
        "nltk.download('nps_chat')\n",
        "nltk.download('webtext')\n",
        "nltk.download('treebank')\n",
        "nltk.download('stopwords')\n",
        "from nltk.corpus import wordnet as wn\n",
        "from nltk.book import *"
      ]
    },
    {
      "cell_type": "code",
      "source": [
        "noun = wn.synsets('house')\n",
        "print(noun)\n"
      ],
      "metadata": {
        "colab": {
          "base_uri": "https://localhost:8080/",
          "height": 0
        },
        "id": "OaTkDutqa6GF",
        "outputId": "cd520857-dead-4fb3-98a3-b10dafee4d50"
      },
      "execution_count": 16,
      "outputs": [
        {
          "output_type": "stream",
          "name": "stdout",
          "text": [
            "[Synset('house.n.01'), Synset('firm.n.01'), Synset('house.n.03'), Synset('house.n.04'), Synset('house.n.05'), Synset('house.n.06'), Synset('house.n.07'), Synset('sign_of_the_zodiac.n.01'), Synset('house.n.09'), Synset('family.n.01'), Synset('theater.n.01'), Synset('house.n.12'), Synset('house.v.01'), Synset('house.v.02')]\n"
          ]
        }
      ]
    },
    {
      "cell_type": "code",
      "source": [
        "print(\"\\nDefination: \"+wn.synset('house.n.01').definition())\n",
        "print(\"\\nExamples: \") \n",
        "[print(i, end= \"\\n\") for i in wn.synset('house.n.01').examples()]\n",
        "print(\"\\nLemmas: \")\n",
        "[print(i, end= \"\\n\") for i in wn.synset('house.n.01').lemmas()]\n",
        "curr = wn.synset('house.n.01')\n",
        "top = wn.synset('entity.n.01')\n",
        "print(\"\\nHierarchy\")\n",
        "while curr:\n",
        "  print(curr)\n",
        "  if curr.hypernyms():\n",
        "    curr = curr.hypernyms()[0]\n",
        "  if curr == top:\n",
        "    break\n"
      ],
      "metadata": {
        "colab": {
          "base_uri": "https://localhost:8080/",
          "height": 0
        },
        "id": "O_2om-lseQT6",
        "outputId": "be87ed18-672f-4d6c-8808-cb3c55ffe5d8"
      },
      "execution_count": 17,
      "outputs": [
        {
          "output_type": "stream",
          "name": "stdout",
          "text": [
            "\n",
            "Defination: a dwelling that serves as living quarters for one or more families\n",
            "\n",
            "Examples: \n",
            "he has a house on Cape Cod\n",
            "she felt she had to get out of the house\n",
            "\n",
            "Lemmas: \n",
            "Lemma('house.n.01.house')\n",
            "\n",
            "Hierarchy\n",
            "Synset('house.n.01')\n",
            "Synset('building.n.01')\n",
            "Synset('structure.n.01')\n",
            "Synset('artifact.n.01')\n",
            "Synset('whole.n.02')\n",
            "Synset('object.n.01')\n",
            "Synset('physical_entity.n.01')\n"
          ]
        }
      ]
    },
    {
      "cell_type": "markdown",
      "source": [
        "WordNet Noun hierarchy organization is based of generality, the higher the word is on the hierarchy, the more general it is, and visa versa for the floor. The most general Noun is always entity.n01. For the noun, the hierarchys goes from house, the most specific noun at the bottom, going to more general noun as we travel up the hierachy, next building, structure, etc, all the way up to the top of the hierachry, entity."
      ],
      "metadata": {
        "id": "4iVq8JlxjAGp"
      }
    },
    {
      "cell_type": "code",
      "source": [
        "print(\"\\nHypernyms: \")\n",
        "[print(i, end= \"\\n\") for i in wn.synset('house.n.01').hypernyms()]\n",
        "print(\"\\nHyponyms: \")\n",
        "[print(i, end= \"\\n\") for i in wn.synset('house.n.01').hyponyms()]\n",
        "print(\"\\nMeronyms: \")\n",
        "[print(i, end= \"\\n\") for i in wn.synset('house.n.01').part_meronyms() ]\n",
        "print(\"\\nHolonyms: \")\n",
        "[print(i, end= \"\\n\") for i in wn.synset('house.n.01').part_holonyms() ]\n",
        "print(\"\\nAntonyms: \")\n",
        "[print(i, end= \"\\n\") for i in wn.synsets('house.n.01', pos=wn.ADJ)]\n",
        "\n"
      ],
      "metadata": {
        "colab": {
          "base_uri": "https://localhost:8080/",
          "height": 0
        },
        "id": "gIYBxlOkg4tc",
        "outputId": "674a97c2-effc-4dc6-c2e8-eb0db1c0eed0"
      },
      "execution_count": 18,
      "outputs": [
        {
          "output_type": "stream",
          "name": "stdout",
          "text": [
            "\n",
            "Hypernyms: \n",
            "Synset('building.n.01')\n",
            "Synset('dwelling.n.01')\n",
            "\n",
            "Hyponyms: \n",
            "Synset('beach_house.n.01')\n",
            "Synset('boarding_house.n.01')\n",
            "Synset('bungalow.n.01')\n",
            "Synset('cabin.n.02')\n",
            "Synset('chalet.n.01')\n",
            "Synset('chapterhouse.n.02')\n",
            "Synset('country_house.n.01')\n",
            "Synset('detached_house.n.01')\n",
            "Synset('dollhouse.n.01')\n",
            "Synset('duplex_house.n.01')\n",
            "Synset('farmhouse.n.01')\n",
            "Synset('gatehouse.n.01')\n",
            "Synset('guesthouse.n.01')\n",
            "Synset('hacienda.n.02')\n",
            "Synset('lodge.n.04')\n",
            "Synset('lodging_house.n.01')\n",
            "Synset('maisonette.n.02')\n",
            "Synset('mansion.n.02')\n",
            "Synset('ranch_house.n.01')\n",
            "Synset('residence.n.02')\n",
            "Synset('row_house.n.01')\n",
            "Synset('safe_house.n.01')\n",
            "Synset('saltbox.n.01')\n",
            "Synset('sod_house.n.01')\n",
            "Synset('solar_house.n.01')\n",
            "Synset('tract_house.n.01')\n",
            "Synset('villa.n.02')\n",
            "\n",
            "Meronyms: \n",
            "Synset('library.n.01')\n",
            "Synset('loft.n.02')\n",
            "Synset('porch.n.01')\n",
            "Synset('study.n.05')\n",
            "\n",
            "Holonyms: \n",
            "\n",
            "Antonyms: \n"
          ]
        },
        {
          "output_type": "execute_result",
          "data": {
            "text/plain": [
              "[]"
            ]
          },
          "metadata": {},
          "execution_count": 18
        }
      ]
    },
    {
      "cell_type": "code",
      "source": [
        "verb = wn.synsets('running')\n",
        "print(verb)"
      ],
      "metadata": {
        "colab": {
          "base_uri": "https://localhost:8080/",
          "height": 0
        },
        "id": "mnv0S9P9PCiU",
        "outputId": "e3d9edf1-4994-4d2a-aa1a-ae3c852565af"
      },
      "execution_count": 20,
      "outputs": [
        {
          "output_type": "stream",
          "name": "stdout",
          "text": [
            "[Synset('run.n.05'), Synset('run.n.07'), Synset('running.n.03'), Synset('running.n.04'), Synset('track.n.11'), Synset('run.v.01'), Synset('scat.v.01'), Synset('run.v.03'), Synset('operate.v.01'), Synset('run.v.05'), Synset('run.v.06'), Synset('function.v.01'), Synset('range.v.01'), Synset('campaign.v.01'), Synset('play.v.18'), Synset('run.v.11'), Synset('tend.v.01'), Synset('run.v.13'), Synset('run.v.14'), Synset('run.v.15'), Synset('run.v.16'), Synset('prevail.v.03'), Synset('run.v.18'), Synset('run.v.19'), Synset('carry.v.15'), Synset('run.v.21'), Synset('guide.v.05'), Synset('run.v.23'), Synset('run.v.24'), Synset('run.v.25'), Synset('run.v.26'), Synset('run.v.27'), Synset('run.v.28'), Synset('run.v.29'), Synset('run.v.30'), Synset('run.v.31'), Synset('run.v.32'), Synset('run.v.33'), Synset('run.v.34'), Synset('ply.v.03'), Synset('hunt.v.01'), Synset('race.v.02'), Synset('move.v.13'), Synset('melt.v.01'), Synset('ladder.v.01'), Synset('run.v.41'), Synset('running.a.01'), Synset('running.s.02'), Synset('running.a.03'), Synset('running.a.04'), Synset('linear.s.05'), Synset('running.s.06')]\n"
          ]
        }
      ]
    },
    {
      "cell_type": "code",
      "source": [
        "print(\"\\nDefination: \"+wn.synset('scat.v.01').definition())\n",
        "print(\"\\nExamples: \") \n",
        "[print(i, end= \"\\n\") for i in wn.synset('scat.v.01').examples()]\n",
        "print(\"\\nLemmas: \")\n",
        "[print(i, end= \"\\n\") for i in wn.synset('scat.v.01').lemmas()]\n",
        "curr = wn.synset('scat.v.01')\n",
        "print(\"\\nHierarchy\")\n",
        "hyper = lambda s: s.hypernyms()\n",
        "list(curr.closure(hyper))"
      ],
      "metadata": {
        "id": "Xur3PiEfPQRx"
      },
      "execution_count": null,
      "outputs": []
    },
    {
      "cell_type": "markdown",
      "source": [
        "WordNet Verbs hierarchy organization is based of generality, the higher the word is on the hierarchy, the more general it is, and visa versa for the floor. Unlike the Noun, verbs have a different general at the hierarchy verbs instead like noun where every noun connects back to entity. So for the verb Scat, the hierachy goes to scat, then to travel, as there is no more general verb than travel."
      ],
      "metadata": {
        "id": "1gwjj7rMRDSl"
      }
    },
    {
      "cell_type": "code",
      "source": [
        "wn.morphy('scat.v.01', wn.ADV)\n",
        "wn.morphy('scat.v.01', wn.ADJ)\n",
        "wn.morphy('scat.v.01', wn.NOUN)\n",
        "wn.morphy('scat.v.01')"
      ],
      "metadata": {
        "id": "ksPTOV3aR0ws"
      },
      "execution_count": 53,
      "outputs": []
    },
    {
      "cell_type": "code",
      "source": [
        "curr = wn.synset('slaughter.v.01')\n",
        "hyper = lambda s: s.hypernyms()\n",
        "print(list(curr.closure(hyper)))\n",
        "kill = wn.synset('kill.v.01')\n",
        "slaughter = wn.synset('slaughter.v.01')\n",
        "print(wn.path_similarity(kill, slaughter))\n",
        "\n",
        "print(\"Wu Similarity: \"+str(wn.wup_similarity(kill, slaughter)))\n",
        "\n",
        "\n",
        "\n",
        "from nltk.wsd import lesk\n",
        "for ss in wn.synsets('club'):\n",
        "    print(ss, ss.definition())\n",
        "club = wn.synsets(\"club\")\n",
        "print(club)\n",
        "sent = ['I', 'hit', 'a','ball','in','one','with','my','golf','club','.']\n",
        "print(lesk(sent, 'club'))"
      ],
      "metadata": {
        "colab": {
          "base_uri": "https://localhost:8080/",
          "height": 0
        },
        "id": "zeLbVcSOX1tL",
        "outputId": "c68a900d-f4f5-476c-a860-e52f1468ce1f"
      },
      "execution_count": 80,
      "outputs": [
        {
          "output_type": "stream",
          "name": "stdout",
          "text": [
            "[Synset('kill.v.01')]\n",
            "0.5\n",
            "Wu Similarity: 0.6666666666666666\n",
            "Synset('baseball_club.n.01') a team of professional baseball players who play and travel together\n",
            "Synset('club.n.02') a formal association of people with similar interests\n",
            "Synset('club.n.03') stout stick that is larger at one end\n",
            "Synset('clubhouse.n.01') a building that is occupied by a social club\n",
            "Synset('golf_club.n.02') golf equipment used by a golfer to hit a golf ball\n",
            "Synset('club.n.06') a playing card in the minor suit that has one or more black trefoils on it\n",
            "Synset('cabaret.n.01') a spot that is open late at night and that provides entertainment (as singers or dancers) as well as dancing and food and drink\n",
            "Synset('club.v.01') unite with a common purpose\n",
            "Synset('club.v.02') gather and spend time together\n",
            "Synset('club.v.03') strike with a club or a bludgeon\n",
            "Synset('club.v.04') gather into a club-like mass\n",
            "[Synset('baseball_club.n.01'), Synset('club.n.02'), Synset('club.n.03'), Synset('clubhouse.n.01'), Synset('golf_club.n.02'), Synset('club.n.06'), Synset('cabaret.n.01'), Synset('club.v.01'), Synset('club.v.02'), Synset('club.v.03'), Synset('club.v.04')]\n",
            "Synset('golf_club.n.02')\n"
          ]
        }
      ]
    },
    {
      "cell_type": "markdown",
      "source": [
        "Similarity is based on the if a word is in a common anecestor, in this case, slaughter is based on the anecestor kill. The lesk algorthim is based on overlapping words in the defination of the words. In the term of our case, golf is overlapping withe the defination as well as ball."
      ],
      "metadata": {
        "id": "h_UyYkhddmJy"
      }
    },
    {
      "cell_type": "markdown",
      "source": [
        "SentiWordNet is based on the opinion mining concept. Sentances can be based on 3 sentiment scores: positivity, negativity, and objectivity. WordNet are score based on these 3 scores."
      ],
      "metadata": {
        "id": "V9T4sWeZh2mw"
      }
    },
    {
      "cell_type": "code",
      "source": [
        "\n",
        "from nltk.corpus import sentiwordnet as swn\n",
        "\n",
        "breakdown = swn.senti_synset('stupid.n.01')\n",
        "print(breakdown)\n",
        "print(\"Positive = \", breakdown.pos_score())\n",
        "print(\"Negative = \", breakdown.neg_score())\n",
        "print(\"Objective = \", breakdown.obj_score())\n",
        "\n",
        "senti_list = list(swn.senti_synsets('stupid')) \n",
        "for item in senti_list:\n",
        "    print(item)\n",
        "\n",
        "sent = ['Great', 'job', 'today','!','Super','happy','with','the','work','you','have','done']\n",
        "for token in sent:\n",
        "    syn_list = list(swn.senti_synsets(token))\n",
        "    if syn_list:\n",
        "        syn = syn_list[0]\n",
        "        print(str(token) + \"\\tPositive = \", str(syn.pos_score())+ \"\\t\\tNegative = \", str(syn.neg_score()))\n",
        "    "
      ],
      "metadata": {
        "colab": {
          "base_uri": "https://localhost:8080/",
          "height": 0
        },
        "id": "Rghzfm4Zgapd",
        "outputId": "9b29de0e-a44b-47e8-8ecf-83ad4292adf4"
      },
      "execution_count": 101,
      "outputs": [
        {
          "output_type": "stream",
          "name": "stdout",
          "text": [
            "<stupid.n.01: PosScore=0.0 NegScore=0.125>\n",
            "Positive =  0.0\n",
            "Negative =  0.125\n",
            "Objective =  0.875\n",
            "<stupid.n.01: PosScore=0.0 NegScore=0.125>\n",
            "<stupid.a.01: PosScore=0.0 NegScore=0.75>\n",
            "<dazed.s.01: PosScore=0.0 NegScore=0.125>\n",
            "<unintelligent.a.01: PosScore=0.0 NegScore=0.375>\n",
            "Great\tPositive =  0.0\t\tNegative =  0.0\n",
            "job\tPositive =  0.0\t\tNegative =  0.0\n",
            "today\tPositive =  0.125\t\tNegative =  0.0\n",
            "Super\tPositive =  0.0\t\tNegative =  0.0\n",
            "happy\tPositive =  0.875\t\tNegative =  0.0\n",
            "work\tPositive =  0.0\t\tNegative =  0.0\n",
            "have\tPositive =  0.0\t\tNegative =  0.0\n",
            "done\tPositive =  0.0\t\tNegative =  0.0\n"
          ]
        }
      ]
    },
    {
      "cell_type": "markdown",
      "source": [
        "For the senti-synsets words, it seems its more of synonym of the word, which makes sense. And have a some whats similar score. In the sent, suprisingly great doesn't have any positive score as well as super. But words like today have a positive score, which is surpisingly. But in total the sentance has a positive score of 1 and a negative score of 0."
      ],
      "metadata": {
        "id": "LNRmUCIytHU-"
      }
    },
    {
      "cell_type": "markdown",
      "source": [
        "Collocations was when words combine to make a sum of their meanings. For example close, means 'a short distance away ' and together, 'with or in proximity to another person' so close together would be combine to make a great meaning."
      ],
      "metadata": {
        "id": "yRBnEhZkxlaP"
      }
    },
    {
      "cell_type": "code",
      "source": [
        "print(text4.collocations())\n",
        "text = ' '.join(text4.tokens)\n",
        "\n",
        "import math\n",
        "vocab = len(set(text6))\n",
        "hg = text.count('fellow citizens')/vocab\n",
        "print(\"p(fellow citizens) = \",hg )\n",
        "h = text.count('fellow')/vocab\n",
        "print(\"p(fellow) = \", h)\n",
        "g = text.count('citizens')/vocab\n",
        "print('p(citizens) = ', g)\n",
        "pmi = math.log2(hg / (h * g))\n",
        "print('pmi = ', pmi)\n"
      ],
      "metadata": {
        "colab": {
          "base_uri": "https://localhost:8080/",
          "height": 0
        },
        "id": "Smvaz6YlgaiW",
        "outputId": "dd5df721-2fec-493c-c7a8-5ef2efe85bb0"
      },
      "execution_count": 124,
      "outputs": [
        {
          "output_type": "stream",
          "name": "stdout",
          "text": [
            "United States; fellow citizens; years ago; four years; Federal\n",
            "Government; General Government; American people; Vice President; God\n",
            "bless; Chief Justice; one another; fellow Americans; Old World;\n",
            "Almighty God; Fellow citizens; Chief Magistrate; every citizen; Indian\n",
            "tribes; public debt; foreign nations\n",
            "None\n",
            "p(fellow citizens) =  0.02816251154201293\n",
            "p(fellow) =  0.06325023084025855\n",
            "p(citizens) =  0.12465373961218837\n",
            "pmi =  1.8367071851598558\n"
          ]
        }
      ]
    },
    {
      "cell_type": "markdown",
      "source": [
        "We can see the pmi for fellow citizen 1.8367, which is good as a PMI that is positive, which means its likely to be a collocation. Taking the p of fellow citizen in the text, and taking the indival prop of fellow and citzen would take the estimane the amount of times the words was used indiviaully and when it was used together. Giving the propaiblity of the collocation and its indivual."
      ],
      "metadata": {
        "id": "vWSQly0wz-_G"
      }
    }
  ]
}